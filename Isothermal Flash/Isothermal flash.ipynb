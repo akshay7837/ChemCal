{
 "cells": [
  {
   "cell_type": "code",
   "execution_count": 28,
   "metadata": {},
   "outputs": [],
   "source": [
    "import numpy as np\n",
    "import json\n",
    "import math\n",
    "import matplotlib.pyplot as plt\n",
    "from scipy.optimize import brentq as fzero"
   ]
  },
  {
   "cell_type": "code",
   "execution_count": 29,
   "metadata": {},
   "outputs": [],
   "source": [
    "def getChemicalData():\n",
    "    with open(\"chemicalDictionary.json\",\"r\") as output:\n",
    "        chemicalDatabase = json.load(output)\n",
    "    return chemicalDatabase"
   ]
  },
  {
   "cell_type": "code",
   "execution_count": 55,
   "metadata": {},
   "outputs": [],
   "source": [
    "comp1  = \"Acetone\"\n",
    "comp2  = \"Ethanol\"\n",
    "\n",
    "P = 760\n",
    "T = 65\n",
    "\n",
    "Z = dict()\n",
    "Z[comp1] = 0.6\n",
    "Z[comp2] = 0.4"
   ]
  },
  {
   "cell_type": "code",
   "execution_count": 56,
   "metadata": {},
   "outputs": [],
   "source": [
    "chemicalDictionary = getChemicalData()\n",
    "A = chemicalDictionary[comp1][0]\n",
    "B = chemicalDictionary[comp1][1]\n",
    "C = chemicalDictionary[comp1][2]\n",
    "\n",
    "A1 = chemicalDictionary[comp2][0]\n",
    "B1 = chemicalDictionary[comp2][1]\n",
    "C1 = chemicalDictionary[comp2][2]\n",
    "\n",
    "Psat = dict()\n",
    "Psat[comp1] = lambda T: 10**(A - B/(T + C))\n",
    "Psat[comp2] = lambda T: 10**(A1 - B1/(T + C1))"
   ]
  },
  {
   "cell_type": "code",
   "execution_count": 57,
   "metadata": {},
   "outputs": [],
   "source": [
    "K = dict()\n",
    "K[comp1] = Psat[comp1](T)/P\n",
    "K[comp2] = Psat[comp2](T)/P"
   ]
  },
  {
   "cell_type": "code",
   "execution_count": 58,
   "metadata": {},
   "outputs": [],
   "source": [
    "# use root finding methond to find the value of phi\n",
    "def RR(phi):\n",
    "    return ((K[comp1] - 1)*Z[comp1])/(1 + phi*(K[comp1]-1)) + ((K[comp2] - 1)*Z[comp2])/(1 + phi*(K[comp2]-1))"
   ]
  },
  {
   "cell_type": "code",
   "execution_count": 59,
   "metadata": {},
   "outputs": [
    {
     "name": "stdout",
     "output_type": "stream",
     "text": [
      "0.23173690661898305\n"
     ]
    }
   ],
   "source": [
    "phi = fzero(RR, 0, 1)\n",
    "print(phi)"
   ]
  },
  {
   "cell_type": "code",
   "execution_count": 64,
   "metadata": {},
   "outputs": [
    {
     "name": "stdout",
     "output_type": "stream",
     "text": [
      "0.5564545610239359\n",
      "0.7443635117879188\n",
      "0.44354543897606424\n",
      "0.25563648821208135\n"
     ]
    }
   ],
   "source": [
    "x = dict()\n",
    "y = dict()\n",
    "\n",
    "for n in [comp1, comp2]:\n",
    "    \n",
    "    x[n] = Z[n]/ (1 + phi*(K[n] - 1))\n",
    "    y[n] = K[n]*x[n]\n",
    "    print(x[n])\n",
    "    print(y[n])"
   ]
  },
  {
   "cell_type": "code",
   "execution_count": null,
   "metadata": {},
   "outputs": [],
   "source": []
  }
 ],
 "metadata": {
  "kernelspec": {
   "display_name": "Python 3",
   "language": "python",
   "name": "python3"
  },
  "language_info": {
   "codemirror_mode": {
    "name": "ipython",
    "version": 3
   },
   "file_extension": ".py",
   "mimetype": "text/x-python",
   "name": "python",
   "nbconvert_exporter": "python",
   "pygments_lexer": "ipython3",
   "version": "3.7.6"
  }
 },
 "nbformat": 4,
 "nbformat_minor": 4
}
