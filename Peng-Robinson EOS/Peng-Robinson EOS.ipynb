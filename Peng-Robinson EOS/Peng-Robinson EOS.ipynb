{
 "cells": [
  {
   "cell_type": "markdown",
   "metadata": {},
   "source": [
    "[![Open In Colab](https://colab.research.google.com/assets/colab-badge.svg)](https://colab.research.google.com/github/akshay7837/ChemCal/blob/master/Peng-Robinson%20EOS/Peng-Robinson%20EOS.ipynb)"
   ]
  },
  {
   "cell_type": "code",
   "execution_count": 2,
   "metadata": {},
   "outputs": [],
   "source": [
    "import math\n",
    "import scipy\n",
    "from thermo.chemical import Chemical\n",
    "import numpy as np\n",
    "import matplotlib.pyplot as plt\n",
    "%matplotlib inline\n",
    "from ipywidgets import interact, interactive, fixed, interact_manual\n",
    "import ipywidgets as widgets"
   ]
  },
  {
   "cell_type": "code",
   "execution_count": 5,
   "metadata": {},
   "outputs": [],
   "source": [
    "component = \"propane\" \n",
    "\n",
    "\n",
    "def PengRobinson(T):\n",
    "    comp1 = component\n",
    "    C1 = Chemical(comp1)\n",
    "    alpha = ( 1 + C1.omega*(1 - ((T/C1.Tc)**(0.5))))**2\n",
    "    a = (0.477235*((scipy.constants.R)**2)*((C1.Tc)**2)*alpha)/C1.Pc\n",
    "    b = (0.077796*(scipy.constants.R)*(C1.Tc))/C1.Pc\n",
    "        \n",
    "    PressureList = []\n",
    "    for v in np.linspace(0.00011, 0.0007, 500):\n",
    "        P = ((scipy.constants.R*T)/(v - b)) - (a)/((v**2)+ (2*v*b)-(b**2))\n",
    "        PressureList.append(P)\n",
    "        \n",
    "    plt.plot((np.linspace(0.00011, 0.0007, 500)), PressureList)\n",
    "\n",
    "    plt.ticklabel_format(style='sci', axis='both',  scilimits=(0,0))\n",
    "    plt.xlabel('Molar volume (m3/mol)')\n",
    "    plt.ylabel('Pressure(Pa)')\n",
    "    plt.title( '{} isotherm on PV plane (PR EOS)'.format(comp1))\n",
    "    plt.grid()\n"
   ]
  },
  {
   "cell_type": "code",
   "execution_count": 6,
   "metadata": {},
   "outputs": [
    {
     "data": {
      "application/vnd.jupyter.widget-view+json": {
       "model_id": "1d1e59d5a8b54fa789589514f7558fcd",
       "version_major": 2,
       "version_minor": 0
      },
      "text/plain": [
       "interactive(children=(IntSlider(value=636, description='T', max=1000, min=273), Output()), _dom_classes=('widg…"
      ]
     },
     "metadata": {},
     "output_type": "display_data"
    }
   ],
   "source": [
    "w = interactive(PengRobinson, T = (273, 1000))\n",
    "display(w)"
   ]
  },
  {
   "cell_type": "code",
   "execution_count": null,
   "metadata": {},
   "outputs": [],
   "source": []
  }
 ],
 "metadata": {
  "kernelspec": {
   "display_name": "Python 3",
   "language": "python",
   "name": "python3"
  },
  "language_info": {
   "codemirror_mode": {
    "name": "ipython",
    "version": 3
   },
   "file_extension": ".py",
   "mimetype": "text/x-python",
   "name": "python",
   "nbconvert_exporter": "python",
   "pygments_lexer": "ipython3",
   "version": "3.7.6"
  }
 },
 "nbformat": 4,
 "nbformat_minor": 4
}
