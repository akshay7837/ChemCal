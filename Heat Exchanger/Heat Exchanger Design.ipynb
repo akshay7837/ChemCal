{
 "cells": [
  {
   "cell_type": "code",
   "execution_count": 1,
   "metadata": {},
   "outputs": [],
   "source": [
    "import numpy as np\n",
    "import math\n",
    "import pandas as pd"
   ]
  },
  {
   "cell_type": "markdown",
   "metadata": {},
   "source": [
    "## Shell and Tube Heat Exchanger Design"
   ]
  },
  {
   "cell_type": "markdown",
   "metadata": {},
   "source": [
    "#### Shell side and Tube side specification\n",
    "1. component 1 will go to shell side and component 2 will go to tube side. \n",
    "2. Choose corrosive fluid as component 2\n",
    "3. Specifications are as follows - \n",
    "  * Tin - Inlet Temperature (F)\n",
    "  * Tout - Inlet Temperature (F)\n",
    "  * ms - Mass Flowrate, (lb/hr)\n",
    "  * cp - Specific Heat (Btu/lbF)\n",
    "  * rho - Density of fluid (lb/ft3)\n",
    "  * mu - Viscosity of fluid (cp)\n",
    "  * K - thermal conductivity (Btuft/hr-ft^2-F)\n",
    "  * fs - Fouling Allowance (hr-ft^2-F/Btu) \n",
    "  * ps - Inlet Pressure (psig)\n",
    "  * dps - Allowable Pressure Drop (psi)"
   ]
  },
  {
   "cell_type": "code",
   "execution_count": 2,
   "metadata": {},
   "outputs": [],
   "source": [
    "# Component 1  -  shell side specification\n",
    "\n",
    "Tsin = 205          # (F)    Shell side inlet temp\n",
    "Tsout = 264         # (F)    Shell side outlet temp\n",
    "\n",
    "comp1_ms = 4000     # (lb/hr)\n",
    "comp1_cp = 0.595    # (Btu/lbF)\n",
    "comp1_rho = 40.6    # (lb/ft^3)\n",
    "comp1_mu = 0.2605   # (cP)\n",
    "comp1_k = 0.07      # (Btu/hr.ft.F)\n",
    "comp1_fs = 0.002     # (hr-ft^2-F/Btu) Fouling Allowance \n",
    "comp1_ps = 180      # (psig), Inlet Pressure\n",
    "comp1_dps = 5       # (psi), Allowable Pressure Drop\n",
    "\n",
    "\n",
    "# Component 2  -  Tube side specification\n",
    "Ttin = 620          # (F)    Shell side inlet temp\n",
    "Ttout = 250         # (F)    Shell side outlet temp\n",
    "\n",
    "comp2_ms = 590         # (lb/hr)\n",
    "comp2_cp = 0.6615      # (Btu/lbF)\n",
    "comp2_rho = 46.3       # (lb/ft^3)\n",
    "comp2_mu = 1.3         # (cP)\n",
    "comp2_k = 0.055        # (Btu/hr.ft.F)\n",
    "comp2_ft = 0.005       # (hr-ft^2-F/Btu) Fouling Allowance \n",
    "comp2_pt = 65          # (psig), Inlet Pressure\n",
    "comp2_dpt = 5          # (psi), Allowable Pressure Drop\n"
   ]
  },
  {
   "cell_type": "markdown",
   "metadata": {},
   "source": [
    "#### Estimate Layouts\n",
    "| Variables |\n",
    "|------|\n",
    "|Material use for Shell  |  \n",
    "|Material use for Tubel  |\n",
    "|Tube Outer Diameter (in)   |\n",
    "|Tube Length (ft)  |\n",
    "|Pitch (in)  |\n",
    "|Tube Inner Diameter (in)  |\n",
    "|Shell pass |\n",
    "|Tube pass |"
   ]
  },
  {
   "cell_type": "code",
   "execution_count": 3,
   "metadata": {},
   "outputs": [],
   "source": [
    "Material_Shell = 'carbon steel'\n",
    "Material_Tube =  'carbon steel'\n",
    "TDo = 0.75                         # (in) Tube Outer Diameter\n",
    "TDin  =  0.5837                    # (in) Tube Inner Diameter\n",
    "TL = 8                             # (ft) Tube length\n",
    "TP= 1                              # (in) Pitch\n",
    "Shell_Pass = 1\n",
    "Tube_Pass = 2                 "
   ]
  },
  {
   "cell_type": "markdown",
   "metadata": {},
   "source": [
    "#### Estimate Overall Heat Transfer Coefficient\n",
    "\n",
    "Estimate overall heat transfer coefficient,\n",
    "Uo $\\frac{Btu}{hrft^{2}F^{\\circ}}$"
   ]
  },
  {
   "cell_type": "code",
   "execution_count": 72,
   "metadata": {},
   "outputs": [],
   "source": [
    "Uo = 6.75"
   ]
  },
  {
   "cell_type": "markdown",
   "metadata": {},
   "source": [
    "#### Shell side Specification\n",
    "1. Find the constants k1 and n1 from Pitch table \n",
    "2. Bs - Bundle shell clearance\n",
    "3. Baffle_sp - Baffle spacing"
   ]
  },
  {
   "cell_type": "code",
   "execution_count": 73,
   "metadata": {},
   "outputs": [],
   "source": [
    "k1 = 0.156\n",
    "n1 =  2.291  \n",
    "Bs =  2         #(in) Bundle-Shell Clearence\n",
    "Baffle_sp = 2.8    # (in) Baffle spacing \n"
   ]
  },
  {
   "cell_type": "markdown",
   "metadata": {},
   "source": [
    "#### Overall Heat Transfer Coefficient Calculation\n",
    "1. Jh - heat transfer factor \n",
    "2. Kw - Thermal conductivity of wall material"
   ]
  },
  {
   "cell_type": "code",
   "execution_count": 74,
   "metadata": {},
   "outputs": [],
   "source": [
    "Jh_t =  0.07   # Heat Transfer Factor for tube side\n",
    "Jh_s =  0.015  # Heat Transfer Factor for shell side\n",
    "Kw = 30      # (Btu/hr-ft-F)"
   ]
  },
  {
   "cell_type": "markdown",
   "metadata": {},
   "source": [
    "#### Shell Side and Tube Side Pressure Drop\n",
    "* The value of the friction factor, Jf, will depend on the design of plate used. \n",
    "* For preliminary calculations the following relationship can be used for turbulent flow:\n",
    "  $ J_{f} = 0.6(NRe)^{-0.3}$"
   ]
  },
  {
   "cell_type": "code",
   "execution_count": 75,
   "metadata": {},
   "outputs": [],
   "source": [
    "Jf_T = 0.095\n",
    "Jf_S = 0.05"
   ]
  },
  {
   "cell_type": "markdown",
   "metadata": {},
   "source": [
    "### Code for the Heat exchanger design "
   ]
  },
  {
   "cell_type": "code",
   "execution_count": 166,
   "metadata": {},
   "outputs": [],
   "source": [
    "class Heatex:\n",
    "    \n",
    "    def __init__(self, c1_ms,c1_cp,c1_rho,c1_mu, c1_k, shell_inlet, shell_outlet, c2_ms,c2_cp,c2_rho,c2_mu, c2_k, tube_inlet, tube_outlet):\n",
    "        self.shell_inlet = shell_inlet\n",
    "        self.shell_outlet = shell_outlet\n",
    "        self.tube_inlet = tube_inlet\n",
    "        self. tube_outlet =  tube_outlet\n",
    "        self.c1_ms = c1_ms\n",
    "        self.c1_cp = c1_cp\n",
    "        self.c1_rho = c1_rho\n",
    "        self.c1_mu = c1_mu\n",
    "        self.c1_k = c1_k\n",
    "        self.c2_ms = c2_ms\n",
    "        self.c2_cp = c2_cp\n",
    "        self.c2_rho = c2_rho\n",
    "        self.c2_mu = c2_mu\n",
    "        self.c2_k = c2_k\n",
    "\n",
    "    def Heat_duty(self):\n",
    "        Q1 = abs((self.c1_ms)*(self.c1_cp)*(self.shell_inlet - self.shell_outlet))\n",
    "        Q2 = abs((self.c2_ms)*(self.c2_cp)*(self.tube_inlet - self.tube_outlet))\n",
    "        return Q1, Q2\n",
    "    \n",
    " \n",
    "   \n",
    "    def LMTD(self):\n",
    "        return abs(((self.shell_inlet - self.tube_outlet) - (self.shell_outlet - self.tube_inlet)) / (math.log((self.shell_inlet - self.tube_outlet)/(self.shell_outlet - self.tube_inlet))))\n",
    "    \n",
    "    \n",
    "    \n",
    "    def Correction_factor(self):\n",
    "        \n",
    "        \"\"\"\n",
    "       The correction factor Ft is a function of the shell and tube fluid temperatures,\n",
    "       and the number of tube and shell passes.\n",
    "       \n",
    "        \"\"\"\n",
    "        \n",
    "        R =  abs((self.tube_outlet - self.tube_inlet)/(self.shell_inlet - self.shell_outlet))\n",
    "        S =  abs((self.shell_inlet - self.shell_outlet)/(self.tube_inlet - self.shell_inlet))\n",
    "        \n",
    "        A = (math.sqrt(R*R +1))*(np.log((1-S)/(1-R*S)))\n",
    "        a = (2-S)*(R + 1 - math.sqrt(R*R +1))\n",
    "        b = (2-S)*(R + 1 + math.sqrt(R*R +1))\n",
    "        B = (R-1)*(np.log(a/b))\n",
    "        \n",
    "        \n",
    "        return abs(A/B)\n",
    "    \n",
    "    \n",
    "    def MTD(self):\n",
    "        return Ft*Tlmtd\n",
    "    \n",
    "    def No_Tubes(self, U, D, L, Din, SP, TP, TFw, TFrho ):\n",
    "        self.U = U\n",
    "        self.D = D\n",
    "        self.L = L\n",
    "        self.Din = Din\n",
    "        self.SP = SP\n",
    "        self.TP = TP\n",
    "        self.TFw = TFw\n",
    "        self.TFrho = TFrho\n",
    "        \n",
    "        Ao = QS/(self.U*Tclmtd)\n",
    "        Tube_Area  = math.pi*(D/12)*L\n",
    "        No_TubePass = int((Ao/Tube_Area)/TP)\n",
    "        TA = (math.pi/4)*((self.Din/12)**2)\n",
    "        Area_PerPass = TA*No_TubePass\n",
    "        Vol_F = (self.TFw/3600)*(1/self.TFrho)\n",
    "        \n",
    "        Tube_VolF = Vol_F / Area_PerPass\n",
    "        \n",
    "        return Tube_Area, int(Ao/Tube_Area), TA, No_TubePass, Area_PerPass, Vol_F, Tube_VolF\n",
    "    \n",
    "    def Bundle(self,Do, K1, N1, BSC):\n",
    "        self.Do =Do\n",
    "        self.K1 = K1\n",
    "        self.N1 = N1\n",
    "        self.BSC = BSC\n",
    "        \n",
    "        Bundle_dia = (Do)*((NOT/K1)**(1/N1))\n",
    "        shell_dia = Bundle_dia + BSC\n",
    "        return Bundle_dia, shell_dia\n",
    "    \n",
    "    \n",
    "    \n",
    "    def TubeHeatTransfer_coeff(self, JHt):\n",
    "        self.JHt = JHt\n",
    "        NRe_T = (self.c2_rho*TSV*3600*(self.Din/12))/(self.c2_mu*2.42)\n",
    "        Pr_T = (self.c2_cp*self.c2_mu*2.42)/self.c2_k\n",
    "        Nu_T = JHt*NRe_T*(Pr_T**(0.33))\n",
    "        hi = Nu_T*(self.c2_k/(self.Din/12))\n",
    "        return NRe_T, Pr_T, Nu_T, hi\n",
    "    \n",
    "    def Shell_vel(self, BS, Tp, JHs):\n",
    "        \n",
    "        self.BS = BS\n",
    "        self.Tp = Tp\n",
    "        self.JHs = JHs\n",
    "        As = (((Tp - self.Do)/Tp)*SD*BS)/144\n",
    "        Vol_flow = (self.c1_ms/3600)*(1/self.c1_rho)\n",
    "        shell_vel = Vol_flow/As\n",
    "        \n",
    "        EQ_dia = (1.27/self.Do)*((Tp**2)-0.785*(self.Do**2))\n",
    "        NRe_S  = (self.c1_rho*shell_vel*3600*(EQ_dia /12))/(self.c1_mu*2.42)\n",
    "        Pr_S   = (self.c1_cp*self.c1_mu*2.42)/self.c1_k\n",
    "        Nu_S   = JHs*NRe_S*(Pr_S**(0.33))\n",
    "        hs     =   Nu_S*(self.c1_k/(EQ_dia/12))\n",
    "        return As, Vol_flow ,shell_vel,EQ_dia, NRe_S, Pr_S, Nu_S,hs\n",
    "\n",
    "    \n",
    "    def OverallHTC(self, KW, c1_fs, c1_ps, c1_dps , c2_ft, c2_pt, c2_dpt):\n",
    "        self.KW = KW\n",
    "        self.c1_fs  = c1_fs\n",
    "        self.c1_ps  = c1_ps\n",
    "        self.c1_dps = c1_dps\n",
    "        self.c2_ft  = c2_ft \n",
    "        self.c2_pt  = c2_pt\n",
    "        self.c2_dpt = c2_dpt\n",
    "        \n",
    "        Uo = 1/((((1/HiT) + c2_ft)*(self.D/self.Din))+ (((self.D/12)*(math.log(self.D/self.Din)))/(2*KW))+(1/HiS)+c1_fs)\n",
    "        \n",
    "        return Uo\n",
    "    \n",
    "    \n",
    "    def PressureDrop(self, Jf_t, Jf_s):\n",
    "        \n",
    "        self.Jf_t =Jf_t\n",
    "        self.Jf_s =Jf_s\n",
    "        \n",
    "        TS_PD =  self.TP*(8*Jf_t*((self.L/3.28)/(self.Din/(12*3.28)))+2.5)*(((self.c2_rho*16.01)*(TSV/3.28)**2)/2)\n",
    "        \n",
    "        SS_PD =  8*Jf_s*((SD/12*3.28)/(EQD/(12*3.28)))*((self.L/3.28)/(self.BS/12*3.28))*((self.c1_rho*16.01)*(SSV/3.28)**2/2)\n",
    "        \n",
    "        return TS_PD,SS_PD\n",
    "    \n",
    "    def Conclusion(self):\n",
    "        \n",
    "        x = ((uo- self.U)/self.U )\n",
    "        if 0 < x < 0.05 :  \n",
    "            print(\"Specifications are correct\")\n",
    "            \n",
    "        else :\n",
    "            print(\"You need to change the inputs\")\n",
    "       \n",
    "   \n",
    "   \n"
   ]
  },
  {
   "cell_type": "code",
   "execution_count": 167,
   "metadata": {},
   "outputs": [],
   "source": [
    "P = Heatex(comp1_ms,comp1_cp, comp1_rho, comp1_mu, comp1_k, Tsin, Tsout,comp2_ms,comp2_cp, comp2_rho, comp2_mu,comp2_k, Ttin, Ttout)\n",
    "QS,QT = P.Heat_duty()\n",
    "Tlmtd= P.LMTD()\n",
    "Ft = P.Correction_factor()\n",
    "Tclmtd = P.MTD()\n",
    "AOT, NOT, TCA , NTP, EOP, VolFlow, TSV = P.No_Tubes(Uo, TDo, TL, TDin, Shell_Pass, Tube_Pass,comp2_ms, comp2_rho )\n",
    "BD, SD = P.Bundle(TDo, k1, n1, Bs)\n",
    "NReT, PrT, NuT, HiT =P.TubeHeatTransfer_coeff(Jh_t)\n",
    "CSA, SVF, SSV, EQD, NReS, PrS, NuS, HiS = P.Shell_vel(Baffle_sp, TP, Jh_s)\n",
    "uo = P.OverallHTC(Kw, comp1_fs, comp1_ps, comp1_dps, comp2_ft, comp2_pt, comp2_dpt)\n",
    "TSPD, SSPD = P.PressureDrop(Jf_T, Jf_S)"
   ]
  },
  {
   "cell_type": "code",
   "execution_count": 168,
   "metadata": {},
   "outputs": [],
   "source": [
    "A0 = {\n",
    "    'Variable':['Heat duty - Tube side','Heat duty -  shell side','LMTD','Corrected LMTD'],\n",
    "    'Result':[QS, QT, Tlmtd, Tclmtd],\n",
    "    'Unit' : ['Btu/hr', 'Btu/hr', '$F^{\\circ}$', ' $F^{\\circ}$']}\n",
    "df0 = pd.DataFrame(A0,columns=['Variable','Result', 'Unit'])\n",
    "\n",
    "\n",
    "\n",
    "\n",
    "A1 = {\n",
    "    'Variable':['Area of one Tube','Number of Tubes','Area per pass','Number of Tubes per pass','Tube cross-section area','Volumetric Flowrate','Tube side Velocity'],\n",
    "    'Result':[AOT,NOT,EOP, NTP,TCA ,VolFlow, TSV],\n",
    "    'Unit' : ['$ft^2$',' ','$ft^2$','','$ft^2$',' $ft^{3}s^{-1}$','$ft s^{-1}$']}\n",
    "df1 = pd.DataFrame(A1,columns=['Variable','Result', 'Unit'])\n",
    "\n",
    "\n",
    "\n",
    "\n",
    "A2 = {\n",
    "    'Variable':['Bundle Diameter','Shell Diameter','Shell Side Cross Flow area','Volumetric Flowrate','Shell Side Velocity'],\n",
    "    'Result':[BD, SD, CSA, SVF ,  SSV],\n",
    "    'Unit' : ['$in$', '$in$', '$ft^2$', '$ft^{3}s^{-1}$', '$fts^{-1}$']}\n",
    "df2 = pd.DataFrame(A2,columns=['Variable','Result', 'Unit'])\n",
    "\n",
    "\n",
    "A3 = {\n",
    "    'Variable':['Tube Side Pressure Drop','Tube Side Pressure Drop'],\n",
    "    'Result':[ TSPD, SSPD],\n",
    "    'Unit' : ['$Pa$', '$Pa$']}\n",
    "df3 = pd.DataFrame(A3,columns=['Variable','Result', 'Unit'])\n",
    "\n",
    "\n",
    "A4 = {\n",
    "    'Variable':['Tube Side Heat Transfer Coefficient','Shell Side Heat Transfer Coefficient', 'Overall Heat Transfer Coefficient'],\n",
    "    'Result':[ HiT, HiS, uo],\n",
    "    'Unit' : ['$Btu/hrft^2F$', '$Btu/hrft^{2}F$', '$Btu/hrft^2F$']}\n",
    "df4 = pd.DataFrame( A4, columns=['Variable','Result', 'Unit'])"
   ]
  },
  {
   "cell_type": "code",
   "execution_count": 169,
   "metadata": {},
   "outputs": [
    {
     "name": "stdout",
     "output_type": "stream",
     "text": [
      "   \n",
      "\u001b[1mHeat Duty and LMTD\n"
     ]
    },
    {
     "data": {
      "text/html": [
       "<div>\n",
       "<style scoped>\n",
       "    .dataframe tbody tr th:only-of-type {\n",
       "        vertical-align: middle;\n",
       "    }\n",
       "\n",
       "    .dataframe tbody tr th {\n",
       "        vertical-align: top;\n",
       "    }\n",
       "\n",
       "    .dataframe thead th {\n",
       "        text-align: right;\n",
       "    }\n",
       "</style>\n",
       "<table border=\"1\" class=\"dataframe\">\n",
       "  <thead>\n",
       "    <tr style=\"text-align: right;\">\n",
       "      <th></th>\n",
       "      <th>Variable</th>\n",
       "      <th>Result</th>\n",
       "      <th>Unit</th>\n",
       "    </tr>\n",
       "  </thead>\n",
       "  <tbody>\n",
       "    <tr>\n",
       "      <th>0</th>\n",
       "      <td>Heat duty - Tube side</td>\n",
       "      <td>140420.000000</td>\n",
       "      <td>Btu/hr</td>\n",
       "    </tr>\n",
       "    <tr>\n",
       "      <th>1</th>\n",
       "      <td>Heat duty -  shell side</td>\n",
       "      <td>144405.450000</td>\n",
       "      <td>Btu/hr</td>\n",
       "    </tr>\n",
       "    <tr>\n",
       "      <th>2</th>\n",
       "      <td>LMTD</td>\n",
       "      <td>150.367343</td>\n",
       "      <td>$F^{\\circ}$</td>\n",
       "    </tr>\n",
       "    <tr>\n",
       "      <th>3</th>\n",
       "      <td>Corrected LMTD</td>\n",
       "      <td>139.067022</td>\n",
       "      <td>$F^{\\circ}$</td>\n",
       "    </tr>\n",
       "  </tbody>\n",
       "</table>\n",
       "</div>"
      ],
      "text/plain": [
       "                  Variable         Result          Unit\n",
       "0    Heat duty - Tube side  140420.000000        Btu/hr\n",
       "1  Heat duty -  shell side  144405.450000        Btu/hr\n",
       "2                     LMTD     150.367343   $F^{\\circ}$\n",
       "3           Corrected LMTD     139.067022   $F^{\\circ}$"
      ]
     },
     "execution_count": 169,
     "metadata": {},
     "output_type": "execute_result"
    }
   ],
   "source": [
    "print('   ')\n",
    "print('\\033[1m' \"Heat Duty and LMTD\")\n",
    "df0"
   ]
  },
  {
   "cell_type": "code",
   "execution_count": 170,
   "metadata": {},
   "outputs": [
    {
     "name": "stdout",
     "output_type": "stream",
     "text": [
      "   \n",
      "\u001b[1mTube Side - No of Tubes\n"
     ]
    },
    {
     "data": {
      "text/html": [
       "<div>\n",
       "<style scoped>\n",
       "    .dataframe tbody tr th:only-of-type {\n",
       "        vertical-align: middle;\n",
       "    }\n",
       "\n",
       "    .dataframe tbody tr th {\n",
       "        vertical-align: top;\n",
       "    }\n",
       "\n",
       "    .dataframe thead th {\n",
       "        text-align: right;\n",
       "    }\n",
       "</style>\n",
       "<table border=\"1\" class=\"dataframe\">\n",
       "  <thead>\n",
       "    <tr style=\"text-align: right;\">\n",
       "      <th></th>\n",
       "      <th>Variable</th>\n",
       "      <th>Result</th>\n",
       "      <th>Unit</th>\n",
       "    </tr>\n",
       "  </thead>\n",
       "  <tbody>\n",
       "    <tr>\n",
       "      <th>0</th>\n",
       "      <td>Area of one Tube</td>\n",
       "      <td>1.570796</td>\n",
       "      <td>$ft^2$</td>\n",
       "    </tr>\n",
       "    <tr>\n",
       "      <th>1</th>\n",
       "      <td>Number of Tubes</td>\n",
       "      <td>95.000000</td>\n",
       "      <td></td>\n",
       "    </tr>\n",
       "    <tr>\n",
       "      <th>2</th>\n",
       "      <td>Area per pass</td>\n",
       "      <td>0.087338</td>\n",
       "      <td>$ft^2$</td>\n",
       "    </tr>\n",
       "    <tr>\n",
       "      <th>3</th>\n",
       "      <td>Number of Tubes per pass</td>\n",
       "      <td>47.000000</td>\n",
       "      <td></td>\n",
       "    </tr>\n",
       "    <tr>\n",
       "      <th>4</th>\n",
       "      <td>Tube cross-section area</td>\n",
       "      <td>0.001858</td>\n",
       "      <td>$ft^2$</td>\n",
       "    </tr>\n",
       "    <tr>\n",
       "      <th>5</th>\n",
       "      <td>Volumetric Flowrate</td>\n",
       "      <td>0.003540</td>\n",
       "      <td>$ft^{3}s^{-1}$</td>\n",
       "    </tr>\n",
       "    <tr>\n",
       "      <th>6</th>\n",
       "      <td>Tube side Velocity</td>\n",
       "      <td>0.040529</td>\n",
       "      <td>$ft s^{-1}$</td>\n",
       "    </tr>\n",
       "  </tbody>\n",
       "</table>\n",
       "</div>"
      ],
      "text/plain": [
       "                   Variable     Result             Unit\n",
       "0          Area of one Tube   1.570796           $ft^2$\n",
       "1           Number of Tubes  95.000000                 \n",
       "2             Area per pass   0.087338           $ft^2$\n",
       "3  Number of Tubes per pass  47.000000                 \n",
       "4   Tube cross-section area   0.001858           $ft^2$\n",
       "5       Volumetric Flowrate   0.003540   $ft^{3}s^{-1}$\n",
       "6        Tube side Velocity   0.040529      $ft s^{-1}$"
      ]
     },
     "execution_count": 170,
     "metadata": {},
     "output_type": "execute_result"
    }
   ],
   "source": [
    "print('   ')\n",
    "print('\\033[1m' \"Tube Side - No of Tubes\")\n",
    "df1"
   ]
  },
  {
   "cell_type": "code",
   "execution_count": 171,
   "metadata": {},
   "outputs": [
    {
     "name": "stdout",
     "output_type": "stream",
     "text": [
      "   \n",
      "\u001b[1mShell Side - Shell diameter and Shell side velocity\n"
     ]
    },
    {
     "data": {
      "text/html": [
       "<div>\n",
       "<style scoped>\n",
       "    .dataframe tbody tr th:only-of-type {\n",
       "        vertical-align: middle;\n",
       "    }\n",
       "\n",
       "    .dataframe tbody tr th {\n",
       "        vertical-align: top;\n",
       "    }\n",
       "\n",
       "    .dataframe thead th {\n",
       "        text-align: right;\n",
       "    }\n",
       "</style>\n",
       "<table border=\"1\" class=\"dataframe\">\n",
       "  <thead>\n",
       "    <tr style=\"text-align: right;\">\n",
       "      <th></th>\n",
       "      <th>Variable</th>\n",
       "      <th>Result</th>\n",
       "      <th>Unit</th>\n",
       "    </tr>\n",
       "  </thead>\n",
       "  <tbody>\n",
       "    <tr>\n",
       "      <th>0</th>\n",
       "      <td>Bundle Diameter</td>\n",
       "      <td>12.317217</td>\n",
       "      <td>$in$</td>\n",
       "    </tr>\n",
       "    <tr>\n",
       "      <th>1</th>\n",
       "      <td>Shell Diameter</td>\n",
       "      <td>14.317217</td>\n",
       "      <td>$in$</td>\n",
       "    </tr>\n",
       "    <tr>\n",
       "      <th>2</th>\n",
       "      <td>Shell Side Cross Flow area</td>\n",
       "      <td>0.069598</td>\n",
       "      <td>$ft^2$</td>\n",
       "    </tr>\n",
       "    <tr>\n",
       "      <th>3</th>\n",
       "      <td>Volumetric Flowrate</td>\n",
       "      <td>0.027367</td>\n",
       "      <td>$ft^{3}s^{-1}$</td>\n",
       "    </tr>\n",
       "    <tr>\n",
       "      <th>4</th>\n",
       "      <td>Shell Side Velocity</td>\n",
       "      <td>0.393222</td>\n",
       "      <td>$fts^{-1}$</td>\n",
       "    </tr>\n",
       "  </tbody>\n",
       "</table>\n",
       "</div>"
      ],
      "text/plain": [
       "                     Variable     Result            Unit\n",
       "0             Bundle Diameter  12.317217            $in$\n",
       "1              Shell Diameter  14.317217            $in$\n",
       "2  Shell Side Cross Flow area   0.069598          $ft^2$\n",
       "3         Volumetric Flowrate   0.027367  $ft^{3}s^{-1}$\n",
       "4         Shell Side Velocity   0.393222      $fts^{-1}$"
      ]
     },
     "execution_count": 171,
     "metadata": {},
     "output_type": "execute_result"
    }
   ],
   "source": [
    "print('   ')\n",
    "print('\\033[1m' \"Shell Side - Shell diameter and Shell side velocity\")\n",
    "df2"
   ]
  },
  {
   "cell_type": "code",
   "execution_count": 172,
   "metadata": {},
   "outputs": [
    {
     "name": "stdout",
     "output_type": "stream",
     "text": [
      "   \n",
      "\u001b[1mPressure Drop\n"
     ]
    },
    {
     "data": {
      "text/html": [
       "<div>\n",
       "<style scoped>\n",
       "    .dataframe tbody tr th:only-of-type {\n",
       "        vertical-align: middle;\n",
       "    }\n",
       "\n",
       "    .dataframe tbody tr th {\n",
       "        vertical-align: top;\n",
       "    }\n",
       "\n",
       "    .dataframe thead th {\n",
       "        text-align: right;\n",
       "    }\n",
       "</style>\n",
       "<table border=\"1\" class=\"dataframe\">\n",
       "  <thead>\n",
       "    <tr style=\"text-align: right;\">\n",
       "      <th></th>\n",
       "      <th>Variable</th>\n",
       "      <th>Result</th>\n",
       "      <th>Unit</th>\n",
       "    </tr>\n",
       "  </thead>\n",
       "  <tbody>\n",
       "    <tr>\n",
       "      <th>0</th>\n",
       "      <td>Tube Side Pressure Drop</td>\n",
       "      <td>14.429391</td>\n",
       "      <td>$Pa$</td>\n",
       "    </tr>\n",
       "    <tr>\n",
       "      <th>1</th>\n",
       "      <td>Tube Side Pressure Drop</td>\n",
       "      <td>969.904669</td>\n",
       "      <td>$Pa$</td>\n",
       "    </tr>\n",
       "  </tbody>\n",
       "</table>\n",
       "</div>"
      ],
      "text/plain": [
       "                  Variable      Result  Unit\n",
       "0  Tube Side Pressure Drop   14.429391  $Pa$\n",
       "1  Tube Side Pressure Drop  969.904669  $Pa$"
      ]
     },
     "execution_count": 172,
     "metadata": {},
     "output_type": "execute_result"
    }
   ],
   "source": [
    "print('   ')\n",
    "print('\\033[1m' \"Pressure Drop\")\n",
    "df3"
   ]
  },
  {
   "cell_type": "code",
   "execution_count": 173,
   "metadata": {},
   "outputs": [
    {
     "name": "stdout",
     "output_type": "stream",
     "text": [
      "   \n",
      "\u001b[1mOverall Heat Transfer Coefficient\n"
     ]
    },
    {
     "data": {
      "text/html": [
       "<div>\n",
       "<style scoped>\n",
       "    .dataframe tbody tr th:only-of-type {\n",
       "        vertical-align: middle;\n",
       "    }\n",
       "\n",
       "    .dataframe tbody tr th {\n",
       "        vertical-align: top;\n",
       "    }\n",
       "\n",
       "    .dataframe thead th {\n",
       "        text-align: right;\n",
       "    }\n",
       "</style>\n",
       "<table border=\"1\" class=\"dataframe\">\n",
       "  <thead>\n",
       "    <tr style=\"text-align: right;\">\n",
       "      <th></th>\n",
       "      <th>Variable</th>\n",
       "      <th>Result</th>\n",
       "      <th>Unit</th>\n",
       "    </tr>\n",
       "  </thead>\n",
       "  <tbody>\n",
       "    <tr>\n",
       "      <th>0</th>\n",
       "      <td>Tube Side Heat Transfer Coefficient</td>\n",
       "      <td>27.419841</td>\n",
       "      <td>$Btu/hrft^2F$</td>\n",
       "    </tr>\n",
       "    <tr>\n",
       "      <th>1</th>\n",
       "      <td>Shell Side Heat Transfer Coefficient</td>\n",
       "      <td>166.577333</td>\n",
       "      <td>$Btu/hrft^{2}F$</td>\n",
       "    </tr>\n",
       "    <tr>\n",
       "      <th>2</th>\n",
       "      <td>Overall Heat Transfer Coefficient</td>\n",
       "      <td>16.247125</td>\n",
       "      <td>$Btu/hrft^2F$</td>\n",
       "    </tr>\n",
       "  </tbody>\n",
       "</table>\n",
       "</div>"
      ],
      "text/plain": [
       "                               Variable      Result             Unit\n",
       "0   Tube Side Heat Transfer Coefficient   27.419841    $Btu/hrft^2F$\n",
       "1  Shell Side Heat Transfer Coefficient  166.577333  $Btu/hrft^{2}F$\n",
       "2     Overall Heat Transfer Coefficient   16.247125    $Btu/hrft^2F$"
      ]
     },
     "execution_count": 173,
     "metadata": {},
     "output_type": "execute_result"
    }
   ],
   "source": [
    "print('   ')\n",
    "print('\\033[1m' \"Overall Heat Transfer Coefficient\")\n",
    "df4"
   ]
  },
  {
   "cell_type": "markdown",
   "metadata": {},
   "source": [
    "#### Conclusion check"
   ]
  },
  {
   "cell_type": "code",
   "execution_count": 175,
   "metadata": {},
   "outputs": [
    {
     "name": "stdout",
     "output_type": "stream",
     "text": [
      "You need to change the inputs\n"
     ]
    }
   ],
   "source": [
    "P.Conclusion()"
   ]
  }
 ],
 "metadata": {
  "kernelspec": {
   "display_name": "Python 3",
   "language": "python",
   "name": "python3"
  },
  "language_info": {
   "codemirror_mode": {
    "name": "ipython",
    "version": 3
   },
   "file_extension": ".py",
   "mimetype": "text/x-python",
   "name": "python",
   "nbconvert_exporter": "python",
   "pygments_lexer": "ipython3",
   "version": "3.7.6"
  }
 },
 "nbformat": 4,
 "nbformat_minor": 4
}
