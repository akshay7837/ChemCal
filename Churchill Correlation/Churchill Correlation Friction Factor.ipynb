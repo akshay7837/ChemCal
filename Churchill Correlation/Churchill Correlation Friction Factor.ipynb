{
 "cells": [
  {
   "cell_type": "markdown",
   "metadata": {},
   "source": [
    "### Churchill Correlation - Friction Factor Calculation\n"
   ]
  },
  {
   "cell_type": "code",
   "execution_count": 8,
   "metadata": {},
   "outputs": [],
   "source": [
    "import pandas as pd\n",
    "import math\n",
    "import numpy as np"
   ]
  },
  {
   "cell_type": "markdown",
   "metadata": {},
   "source": [
    "#### Inputs by User\n",
    "* Pipe characteristics\n",
    "  1. Pipe Diameter (mm)\n",
    "  2. Pipe roughness (mm) \n",
    "  \n",
    "  \n",
    "* Fluid characteristics\n",
    "  1. Fluid density (Kg/m^3)\n",
    "  2. Fluid viscosity (Pa.s)\n",
    "  3. Flowrate (m^3/h)"
   ]
  },
  {
   "cell_type": "code",
   "execution_count": 9,
   "metadata": {},
   "outputs": [],
   "source": [
    "Dia =  80      # Diameter (mm) \n",
    "Pipe_rough =    0.1     # Pipe roughness (mm) \n",
    "Density = 1000   # Fluid density (Kg/m^3) \n",
    "Visc =  0.001  # Fluid viscosity (Pa.s) \n",
    "Flow_rate  =  20     # Flowrate (m^3/h) \n"
   ]
  },
  {
   "cell_type": "markdown",
   "metadata": {},
   "source": [
    "#### Code for the friction factor"
   ]
  },
  {
   "cell_type": "code",
   "execution_count": 33,
   "metadata": {},
   "outputs": [],
   "source": [
    "class Fric:\n",
    "    \n",
    "    def __init__(self, A):\n",
    "        self.D   = A[0]\n",
    "        self.e   = A[1]\n",
    "        self.rho = A[2]\n",
    "        self.mu  = A[3]\n",
    "        self.Q   = A[4]\n",
    "    \n",
    "    def velocity(self):\n",
    "        A = math.pi*((self.D/1000)**2)*0.25\n",
    "        v = (self.Q/3600)/A\n",
    "        self.v = v\n",
    "        return v\n",
    "    \n",
    "    def ReynoldsNo(self):\n",
    "        NRe = ((self.D/1000)*(self.v)*self.rho)/self.mu\n",
    "        self.NRe = NRe\n",
    "        return NRe\n",
    "    \n",
    "    def Constants(self):\n",
    "        Constant1 = (2.457*math.log(1/((7/self.NRe)**0.9 + 0.27*(self.e/self.D))))**16\n",
    "        Constant2 = (37530/self.NRe)**16\n",
    "        self.A = Constant1\n",
    "        self.B = Constant2\n",
    "        return Constant1, Constant2\n",
    "        \n",
    "    def Darcyfric(self):\n",
    "        if self.NRe > 2000:\n",
    "            f_darcy =  8*((8/self.NRe)**12 + (1/(self.A + self.B)**1.5))**(1/12)\n",
    "        else :\n",
    "            f_darcy = 64/self.NRe\n",
    "        self.f_darcy = f_darcy\n",
    "        return f_darcy\n",
    "    \n",
    "    def faningfric(self):\n",
    "        return self.f_darcy/4\n"
   ]
  },
  {
   "cell_type": "code",
   "execution_count": 34,
   "metadata": {},
   "outputs": [],
   "source": [
    "A = [Dia, Pipe_rough, Density, Visc, Flow_rate]\n",
    "X = Fric(A)"
   ]
  },
  {
   "cell_type": "code",
   "execution_count": 35,
   "metadata": {},
   "outputs": [
    {
     "data": {
      "text/plain": [
       "1.1052426603603844"
      ]
     },
     "execution_count": 35,
     "metadata": {},
     "output_type": "execute_result"
    }
   ],
   "source": [
    "X.velocity()"
   ]
  },
  {
   "cell_type": "code",
   "execution_count": 36,
   "metadata": {},
   "outputs": [
    {
     "data": {
      "text/plain": [
       "88419.41282883075"
      ]
     },
     "execution_count": 36,
     "metadata": {},
     "output_type": "execute_result"
    }
   ],
   "source": [
    "X.ReynoldsNo()"
   ]
  },
  {
   "cell_type": "code",
   "execution_count": 37,
   "metadata": {},
   "outputs": [
    {
     "data": {
      "text/plain": [
       "(1.852658183889927e+20, 1.1099285074911865e-06)"
      ]
     },
     "execution_count": 37,
     "metadata": {},
     "output_type": "execute_result"
    }
   ],
   "source": [
    "X.Constants()"
   ]
  },
  {
   "cell_type": "code",
   "execution_count": 38,
   "metadata": {},
   "outputs": [
    {
     "data": {
      "text/plain": [
       "0.02342154687211943"
      ]
     },
     "execution_count": 38,
     "metadata": {},
     "output_type": "execute_result"
    }
   ],
   "source": [
    "X.Darcyfric()"
   ]
  },
  {
   "cell_type": "code",
   "execution_count": 39,
   "metadata": {},
   "outputs": [
    {
     "data": {
      "text/plain": [
       "0.0058553867180298575"
      ]
     },
     "execution_count": 39,
     "metadata": {},
     "output_type": "execute_result"
    }
   ],
   "source": [
    "X.faningfric()"
   ]
  },
  {
   "cell_type": "code",
   "execution_count": null,
   "metadata": {},
   "outputs": [],
   "source": []
  }
 ],
 "metadata": {
  "kernelspec": {
   "display_name": "Python 3",
   "language": "python",
   "name": "python3"
  },
  "language_info": {
   "codemirror_mode": {
    "name": "ipython",
    "version": 3
   },
   "file_extension": ".py",
   "mimetype": "text/x-python",
   "name": "python",
   "nbconvert_exporter": "python",
   "pygments_lexer": "ipython3",
   "version": "3.7.6"
  }
 },
 "nbformat": 4,
 "nbformat_minor": 4
}
